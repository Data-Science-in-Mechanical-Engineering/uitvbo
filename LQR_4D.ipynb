{
 "cells": [
  {
   "cell_type": "markdown",
   "metadata": {
    "collapsed": true,
    "pycharm": {
     "name": "#%% md\n"
    }
   },
   "source": [
    "# 2D numerical experiment of the inverted pendulum"
   ]
  },
  {
   "cell_type": "code",
   "execution_count": 1,
   "outputs": [],
   "source": [
    "import gpytorch\n",
    "import torch\n",
    "from src.TVBO import TimeVaryingBOModel\n",
    "from src.objective_functions_LQR import lqr_objective_function_4D"
   ],
   "metadata": {
    "collapsed": false,
    "pycharm": {
     "name": "#%%\n"
    }
   }
  },
  {
   "cell_type": "markdown",
   "source": [
    "### Hyperparameters"
   ],
   "metadata": {
    "collapsed": false,
    "pycharm": {
     "name": "#%% md\n"
    }
   }
  },
  {
   "cell_type": "code",
   "execution_count": 2,
   "outputs": [],
   "source": [
    "# parameters regarding the objective function\n",
    "objective_function_options = {'objective_function': lqr_objective_function_4D,\n",
    "\n",
    "                              # optimize the 4D feedback gain\n",
    "                              'spatio_dimensions': 4,\n",
    "\n",
    "                              # approximate noise level from the objective function\n",
    "                              'noise_lvl': 0.005,\n",
    "\n",
    "                              # feasible set for the optimization\n",
    "                              'feasible_set': torch.tensor([[-3.5, -7, -62.5, -5],\n",
    "                                                            [-1.5, -4, -12.5, -1]],\n",
    "                                                           dtype=torch.float),\n",
    "\n",
    "                              # initial feasible set consisting of only controllers\n",
    "                              'initial_feasible_set': torch.tensor([[-3, -6, -50, -4],\n",
    "                                                                    [-2, -4, -25, -2]],\n",
    "                                                                   dtype=torch.float),\n",
    "\n",
    "                              # scaling \\theta to have approximately equal lengthscales in each dimension\n",
    "                              'scaling_factors': torch.tensor([1 / 8, 1 / 4, 3, 1 / 4])}\n",
    "\n",
    "# parameters regarding the model\n",
    "model_options = {'constrained_dimensions': None,  # later specified for each variation\n",
    "                 'forgetting_type': None,  # later specified for each variation\n",
    "                 'forgetting_factor': None,  # later specified for each variation\n",
    "\n",
    "                 # specification for the constraints  (cf. Agrell 2019)\n",
    "                 'nr_samples': 10000,\n",
    "                 'xv_points_per_dim': 4,  # VOPs per dimensions\n",
    "                 'truncation_bounds': [0, 2],\n",
    "\n",
    "                 # specification of prior\n",
    "                 'prior_mean': 0.,\n",
    "                 'lengthscale_constraint': gpytorch.constraints.Interval(0.5, 6),\n",
    "                 'lengthscale_hyperprior': gpytorch.priors.GammaPrior(6, 1 / 0.3),\n",
    "                 'outputscale_constraint_spatio': gpytorch.constraints.Interval(0, 20),\n",
    "                 'outputscale_hyperprior_spatio': None, }"
   ],
   "metadata": {
    "collapsed": false,
    "pycharm": {
     "name": "#%%\n"
    }
   }
  },
  {
   "cell_type": "markdown",
   "source": [
    "### Specify variations"
   ],
   "metadata": {
    "collapsed": false
   }
  },
  {
   "cell_type": "code",
   "execution_count": 3,
   "outputs": [],
   "source": [
    "# UI -> UI-TVBO, B2P_OU -> TV-GP-UCB\n",
    "variations = [\n",
    "    # in the paper color blue\n",
    "    {'forgetting_type': 'UI', 'forgetting_factor': 0.03, 'constrained_dims': []},\n",
    "\n",
    "    # in the paper color red\n",
    "    {'forgetting_type': 'B2P_OU', 'forgetting_factor': 0.03, 'constrained_dims': []}, ]"
   ],
   "metadata": {
    "collapsed": false,
    "pycharm": {
     "name": "#%%\n"
    }
   }
  },
  {
   "cell_type": "markdown",
   "source": [
    "### Start optimization"
   ],
   "metadata": {
    "collapsed": false,
    "pycharm": {
     "name": "#%% md\n"
    }
   }
  },
  {
   "cell_type": "code",
   "execution_count": null,
   "outputs": [],
   "source": [
    "trials_per_variation = 25  # number of different runs\n",
    "for variation in variations:\n",
    "\n",
    "    # update variation specific parameters\n",
    "    model_options['forgetting_type'] = variation['forgetting_type']\n",
    "    model_options['forgetting_factor'] = variation['forgetting_factor']\n",
    "    model_options['constrained_dimensions'] = variation['constrained_dims']\n",
    "\n",
    "    tvbo_model = TimeVaryingBOModel(objective_function_options=objective_function_options,\n",
    "                                    model_options=model_options,\n",
    "                                    post_processing_options={},\n",
    "                                    add_noise=False, )  # noise is added during the simulation of the pendulum\n",
    "\n",
    "    # specify name to safe results\n",
    "    method_name = model_options['forgetting_type']\n",
    "    forgetting_factor = model_options['forgetting_factor']\n",
    "    string = 'constrained' if model_options['constrained_dimensions'] else 'unconstrained'\n",
    "    NAME = f\"{method_name}_2DLQR_{string}_forgetting_factor_{forgetting_factor}\".replace('.', '_')\n",
    "\n",
    "    # run optimization\n",
    "    for trial in range(1, trials_per_variation + 1):\n",
    "        tvbo_model.run_TVBO(n_initial_points=30,\n",
    "                            time_horizon=300,\n",
    "                            safe_name=NAME,\n",
    "                            trial=trial, )\n",
    "    print('Finished.')"
   ],
   "metadata": {
    "collapsed": false,
    "pycharm": {
     "name": "#%%\n",
     "is_executing": true
    }
   }
  }
 ],
 "metadata": {
  "kernelspec": {
   "display_name": "Python 3",
   "language": "python",
   "name": "python3"
  },
  "language_info": {
   "codemirror_mode": {
    "name": "ipython",
    "version": 2
   },
   "file_extension": ".py",
   "mimetype": "text/x-python",
   "name": "python",
   "nbconvert_exporter": "python",
   "pygments_lexer": "ipython2",
   "version": "2.7.6"
  }
 },
 "nbformat": 4,
 "nbformat_minor": 0
}